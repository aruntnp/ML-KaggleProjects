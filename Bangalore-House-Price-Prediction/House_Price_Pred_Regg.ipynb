{
 "cells": [
  {
   "cell_type": "markdown",
   "id": "99719cca",
   "metadata": {},
   "source": [
    "### Bangalore House price prediction"
   ]
  },
  {
   "cell_type": "code",
   "execution_count": 1,
   "id": "2a0b0b2e",
   "metadata": {},
   "outputs": [],
   "source": [
    "#import libraries:\n",
    "import pandas as pd"
   ]
  },
  {
   "cell_type": "code",
   "execution_count": null,
   "id": "2e455ef6",
   "metadata": {},
   "outputs": [],
   "source": []
  }
 ],
 "metadata": {
  "kernelspec": {
   "display_name": "Python 3 (ipykernel)",
   "language": "python",
   "name": "python3"
  },
  "language_info": {
   "codemirror_mode": {
    "name": "ipython",
    "version": 3
   },
   "file_extension": ".py",
   "mimetype": "text/x-python",
   "name": "python",
   "nbconvert_exporter": "python",
   "pygments_lexer": "ipython3",
   "version": "3.8.12"
  }
 },
 "nbformat": 4,
 "nbformat_minor": 5
}
