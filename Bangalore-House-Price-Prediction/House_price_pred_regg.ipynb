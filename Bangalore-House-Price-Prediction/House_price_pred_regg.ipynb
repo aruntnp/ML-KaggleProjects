{
 "cells": [
  {
<<<<<<< HEAD
   "cell_type": "code",
   "execution_count": null,
   "id": "5647ef2d",
   "metadata": {},
   "outputs": [],
   "source": []
=======
   "cell_type": "markdown",
   "id": "23acbab4",
   "metadata": {},
   "source": [
    "### Bangalore House Price prediction ###"
   ]
  },
  {
   "cell_type": "code",
   "execution_count": null,
   "id": "7d6a4797",
   "metadata": {},
   "outputs": [],
   "source": [
    "#Import Lib:"
   ]
>>>>>>> faa9c879277f77a377c364a078b4d2d840dfb819
  }
 ],
 "metadata": {
  "kernelspec": {
   "display_name": "Python 3 (ipykernel)",
   "language": "python",
   "name": "python3"
  },
  "language_info": {
   "codemirror_mode": {
    "name": "ipython",
    "version": 3
   },
   "file_extension": ".py",
   "mimetype": "text/x-python",
   "name": "python",
   "nbconvert_exporter": "python",
   "pygments_lexer": "ipython3",
<<<<<<< HEAD
   "version": "3.8.12"
=======
   "version": "3.8.9"
>>>>>>> faa9c879277f77a377c364a078b4d2d840dfb819
  }
 },
 "nbformat": 4,
 "nbformat_minor": 5
}
